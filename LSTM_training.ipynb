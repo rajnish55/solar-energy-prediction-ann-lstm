{
 "cells": [
  {
   "cell_type": "code",
   "execution_count": 1,
   "id": "3551d2d5",
   "metadata": {},
   "outputs": [],
   "source": [
    "import numpy as np\n",
    "import pandas as pd\n",
    "from sklearn.preprocessing import StandardScaler\n",
    "import torch\n",
    "import torch.nn as nn\n",
    "from torch.utils.data import TensorDataset, DataLoader\n",
    "\n",
    "import warnings"
   ]
  },
  {
   "cell_type": "code",
   "execution_count": 2,
   "id": "381fb584",
   "metadata": {},
   "outputs": [],
   "source": [
    "warnings.filterwarnings(\"ignore\")\n",
    "torch.manual_seed(42)\n",
    "np.random.seed(42)"
   ]
  },
  {
   "cell_type": "code",
   "execution_count": null,
   "id": "18df0e18",
   "metadata": {},
   "outputs": [],
   "source": [
    "gen_df = pd.read_csv('./data/Plant_1_Generation_Data.csv')\n",
    "weather_df = pd.read_csv('./data/Plant_1_Weather_Sensor_Data.csv')\n",
    "\n",
    "gen_df['DATE_TIME'] = pd.to_datetime(gen_df['DATE_TIME'], format='%d-%m-%Y %H:%M')\n",
    "weather_df['DATE_TIME'] = pd.to_datetime(weather_df['DATE_TIME'], format='%Y-%m-%d %H:%M:%S')\n",
    "\n",
    "gen_agg = gen_df.groupby('DATE_TIME').agg({\n",
    "    'DC_POWER': 'sum',\n",
    "    'AC_POWER': 'sum',\n",
    "    'DAILY_YIELD': 'mean',\n",
    "    'TOTAL_YIELD': 'mean'\n",
    "}).reset_index()\n",
    "\n",
    "df = pd.merge(gen_agg, weather_df, on='DATE_TIME')\n",
    "df = df.drop(columns=['PLANT_ID', 'SOURCE_KEY'])\n",
    "\n",
    "df['HOUR'] = df['DATE_TIME'].dt.hour\n",
    "df['DAY_SIN'] = np.sin(2*np.pi*df['HOUR']/24)\n",
    "df['DAY_COS'] = np.cos(2*np.pi*df['HOUR']/24)"
   ]
  },
  {
   "cell_type": "code",
   "execution_count": null,
   "id": "a2302b1a",
   "metadata": {},
   "outputs": [],
   "source": [
    "lookback = 6  \n",
    "forecast_horizon = 6  \n",
    "test_size = 0.2\n",
    "\n",
    "features = ['IRRADIATION', 'AMBIENT_TEMPERATURE', 'MODULE_TEMPERATURE', 'DAY_SIN', 'DAY_COS']\n",
    "target = 'AC_POWER'\n",
    "\n",
    "X, y = [], []\n",
    "for i in range(len(df) - lookback - forecast_horizon + 1):\n",
    "    X.append(df[features].values[i:i+lookback])\n",
    "    y.append(df[target].values[i+lookback:i+lookback+forecast_horizon])\n",
    "X, y = np.array(X), np.array(y)\n",
    "\n",
    "split_idx = int(len(X) * (1 - test_size))\n",
    "X_train, X_test = X[:split_idx], X[split_idx:]\n",
    "y_train, y_test = y[:split_idx], y[split_idx:]\n",
    "\n",
    "x_scaler = StandardScaler()\n",
    "y_scaler = StandardScaler()\n",
    "\n",
    "X_train_scaled = x_scaler.fit_transform(X_train.reshape(-1, X_train.shape[-1]))\n",
    "X_train_scaled = X_train_scaled.reshape(-1, lookback, len(features))\n",
    "\n",
    "X_test_scaled = x_scaler.transform(X_test.reshape(-1, X_test.shape[-1]))\n",
    "X_test_scaled = X_test_scaled.reshape(-1, lookback, len(features))\n",
    "\n",
    "y_train_scaled = y_scaler.fit_transform(y_train)\n",
    "y_test_scaled = y_scaler.transform(y_test)\n",
    "\n",
    "train_dataset = TensorDataset(torch.FloatTensor(X_train_scaled), torch.FloatTensor(y_train_scaled))\n",
    "test_dataset = TensorDataset(torch.FloatTensor(X_test_scaled), torch.FloatTensor(y_test_scaled))\n",
    "\n",
    "train_loader = DataLoader(train_dataset, batch_size=64, shuffle=True)\n",
    "test_loader = DataLoader(test_dataset, batch_size=64, shuffle=False)"
   ]
  },
  {
   "cell_type": "code",
   "execution_count": 5,
   "id": "3c60aba2",
   "metadata": {},
   "outputs": [
    {
     "data": {
      "text/plain": [
       "5"
      ]
     },
     "execution_count": 5,
     "metadata": {},
     "output_type": "execute_result"
    }
   ],
   "source": [
    "len(features)"
   ]
  },
  {
   "cell_type": "code",
   "execution_count": null,
   "id": "46acac48",
   "metadata": {},
   "outputs": [],
   "source": [
    "class SolarLSTM(nn.Module):\n",
    "    def __init__(self, input_size, hidden_size=64, num_layers=2, output_size=6):\n",
    "        super().__init__()\n",
    "        self.lstm = nn.LSTM(input_size, hidden_size, num_layers, batch_first=True)\n",
    "        self.fc = nn.Sequential(\n",
    "            nn.Linear(hidden_size, 32),\n",
    "            nn.ReLU(),\n",
    "            nn.Linear(32, output_size)\n",
    "        )\n",
    "        \n",
    "    def forward(self, x):\n",
    "        out, _ = self.lstm(x)\n",
    "        out = self.fc(out[:, -1, :])  \n",
    "        return out\n",
    "\n",
    "device = torch.device('cuda' if torch.cuda.is_available() else 'cpu')\n",
    "model = SolarLSTM(input_size=len(features)).to(device)\n",
    "criterion = nn.MSELoss()\n",
    "optimizer = torch.optim.Adam(model.parameters(), lr=0.001)"
   ]
  },
  {
   "cell_type": "code",
   "execution_count": 7,
   "id": "0bf2f786",
   "metadata": {},
   "outputs": [
    {
     "name": "stdout",
     "output_type": "stream",
     "text": [
      "Epoch 10/100 | Train Loss: 0.1005 | Val Loss: 0.0902\n",
      "Epoch 20/100 | Train Loss: 0.0924 | Val Loss: 0.0858\n",
      "Epoch 30/100 | Train Loss: 0.0888 | Val Loss: 0.0905\n",
      "Epoch 40/100 | Train Loss: 0.0882 | Val Loss: 0.0978\n",
      "Epoch 50/100 | Train Loss: 0.0854 | Val Loss: 0.0894\n",
      "Epoch 60/100 | Train Loss: 0.0819 | Val Loss: 0.1023\n",
      "Epoch 70/100 | Train Loss: 0.0803 | Val Loss: 0.0938\n",
      "Epoch 80/100 | Train Loss: 0.0761 | Val Loss: 0.0997\n",
      "Epoch 90/100 | Train Loss: 0.0750 | Val Loss: 0.1005\n",
      "Epoch 100/100 | Train Loss: 0.0708 | Val Loss: 0.1135\n"
     ]
    }
   ],
   "source": [
    "epochs = 100\n",
    "\n",
    "for epoch in range(epochs):\n",
    "    model.train()\n",
    "    train_loss = 0\n",
    "    \n",
    "    for batch_X, batch_y in train_loader:\n",
    "        batch_X, batch_y = batch_X.to(device), batch_y.to(device)\n",
    "        \n",
    "        optimizer.zero_grad()\n",
    "        outputs = model(batch_X)\n",
    "        loss = criterion(outputs, batch_y)\n",
    "        loss.backward()\n",
    "        optimizer.step()\n",
    "        \n",
    "        train_loss += loss.item()\n",
    "    \n",
    "    # Validation\n",
    "    model.eval()\n",
    "    val_loss = 0\n",
    "    with torch.no_grad():\n",
    "        for batch_X, batch_y in test_loader:\n",
    "            batch_X, batch_y = batch_X.to(device), batch_y.to(device)\n",
    "            outputs = model(batch_X)\n",
    "            val_loss += criterion(outputs, batch_y).item()\n",
    "    \n",
    "    if (epoch+1) % 10 == 0:\n",
    "        print(f\"Epoch {epoch+1}/{epochs} | Train Loss: {train_loss/len(train_loader):.4f} | Val Loss: {val_loss/len(test_loader):.4f}\")\n",
    "\n",
    "import os \n",
    "import joblib\n",
    "\n",
    "os.makedirs(\"Solar_LSTM\", exist_ok=True)\n",
    "joblib.dump(x_scaler, './Solar_LSTM/x_scaler.joblib') \n",
    "joblib.dump(y_scaler, './Solar_LSTM/y_scaler.joblib')\n",
    "torch.save(model.state_dict(), \"./Solar_LSTM/solar_lstm_model.pth\")"
   ]
  }
 ],
 "metadata": {
  "kernelspec": {
   "display_name": "Python 3",
   "language": "python",
   "name": "python3"
  },
  "language_info": {
   "codemirror_mode": {
    "name": "ipython",
    "version": 3
   },
   "file_extension": ".py",
   "mimetype": "text/x-python",
   "name": "python",
   "nbconvert_exporter": "python",
   "pygments_lexer": "ipython3",
   "version": "3.12.4"
  }
 },
 "nbformat": 4,
 "nbformat_minor": 5
}
